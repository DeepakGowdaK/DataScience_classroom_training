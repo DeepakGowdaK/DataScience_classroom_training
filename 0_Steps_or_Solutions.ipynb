{
 "cells": [
  {
   "cell_type": "markdown",
   "source": [
    "Solutions  \r\n",
    "  \r\n",
    "1. Take ready made already completed projects  \r\n",
    "   (Linear Regression, Logistic Regression, Decision Tree, Random Forest,  \r\n",
    "    Naive Bayes, KNN, SVM.)  \r\n",
    "      \r\n",
    "2. Refer   \r\n",
    "   https://scikit-learn.org  \r\n",
    "====================================  \r\n",
    "  \r\n",
    "After training is completed  \r\n",
    "  \r\n",
    "1. Make individual Jupyter notebook for each model and each project  \r\n",
    "  \r\n",
    "2. Create your notes for following  \r\n",
    "   a. for creating dataframe from various sources -> csv, xlsx, scilearn, website  \r\n",
    "   b. Pandas data wrangling techniques  \r\n",
    "   e. Data visualisations   \r\n",
    "   c. Building models  \r\n",
    "   d. Validation techniques  \r\n",
    "    \r\n",
    "3. Reference websites  \r\n",
    "   a.  https://pandas.pydata.org/pandas-docs/stable/user_guide/index.html  \r\n",
    "   b.  https://numpy.org/doc/stable/reference/index.html  \r\n",
    "   c.  https://www.scipy.org/  \r\n",
    "   d.  https://scikit-learn.org/stable/modules/classes.html  \r\n",
    "   e.  https://matplotlib.org/stable/contents.html#  "
   ],
   "metadata": {}
  },
  {
   "cell_type": "code",
   "execution_count": null,
   "source": [],
   "outputs": [],
   "metadata": {}
  }
 ],
 "metadata": {
  "orig_nbformat": 4,
  "language_info": {
   "name": "python"
  }
 },
 "nbformat": 4,
 "nbformat_minor": 2
}