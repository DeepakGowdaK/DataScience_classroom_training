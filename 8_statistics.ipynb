{
 "cells": [
  {
   "cell_type": "markdown",
   "source": [
    "# **Statistics**"
   ],
   "metadata": {}
  },
  {
   "cell_type": "code",
   "execution_count": 2,
   "source": [
    "import numpy as np\r\n",
    "\r\n",
    "d1 = np.array( [70, 72, 75, 74, 71] )\r\n",
    "d2 = np.array( [110, 70, 49, 90, 50] )\r\n",
    "d3 = np.array( [210, 40, 41, 45, 39] )\r\n",
    "\r\n",
    "d1.mean(), d2.mean(),   d3.mean()\r\n"
   ],
   "outputs": [
    {
     "output_type": "execute_result",
     "data": {
      "text/plain": [
       "(72.4, 73.8, 75.0)"
      ]
     },
     "metadata": {},
     "execution_count": 2
    }
   ],
   "metadata": {}
  },
  {
   "cell_type": "code",
   "execution_count": 11,
   "source": [
    "incomes = np.random.normal(27000, 15000, 10000)    \r\n",
    "                  # (mean, standard deviation, no of readings)\r\n",
    "incomes"
   ],
   "outputs": [
    {
     "output_type": "execute_result",
     "data": {
      "text/plain": [
       "array([11496.83456142, 44640.32649727, 26070.65055368, ...,\n",
       "       31543.59597614, 17455.17560715, 43515.96228148])"
      ]
     },
     "metadata": {},
     "execution_count": 11
    }
   ],
   "metadata": {}
  },
  {
   "cell_type": "code",
   "execution_count": 12,
   "source": [
    "np.mean(incomes)"
   ],
   "outputs": [
    {
     "output_type": "execute_result",
     "data": {
      "text/plain": [
       "27364.280599509086"
      ]
     },
     "metadata": {},
     "execution_count": 12
    }
   ],
   "metadata": {}
  },
  {
   "cell_type": "code",
   "execution_count": 5,
   "source": [
    "np.median(incomes)"
   ],
   "outputs": [
    {
     "output_type": "execute_result",
     "data": {
      "text/plain": [
       "26966.62250546692"
      ]
     },
     "metadata": {},
     "execution_count": 5
    }
   ],
   "metadata": {}
  },
  {
   "cell_type": "markdown",
   "source": [
    "## **Mode**"
   ],
   "metadata": {}
  },
  {
   "cell_type": "code",
   "execution_count": 8,
   "source": [
    "ages = np.random.randint(18, high=90, size=500)   # (low_vale, High_value, no_of_readings)\r\n",
    "ages\r\n"
   ],
   "outputs": [
    {
     "output_type": "execute_result",
     "data": {
      "text/plain": [
       "array([73, 78, 64, 44, 89, 51, 31, 59, 52, 75, 72, 47, 25, 56, 35, 47, 80,\n",
       "       62, 30, 47, 25, 69, 60, 24, 88, 76, 33, 18, 37, 39, 28, 22, 63, 61,\n",
       "       28, 54, 40, 54, 85, 59, 89, 50, 26, 70, 75, 24, 21, 80, 89, 35, 43,\n",
       "       53, 60, 72, 72, 53, 58, 19, 85, 35, 72, 28, 42, 19, 36, 57, 60, 40,\n",
       "       30, 65, 53, 31, 44, 28, 32, 54, 72, 42, 59, 37, 78, 35, 49, 48, 82,\n",
       "       42, 60, 29, 85, 24, 45, 57, 60, 33, 30, 86, 20, 75, 47, 18, 57, 24,\n",
       "       28, 32, 62, 51, 76, 53, 88, 35, 23, 58, 43, 36, 69, 45, 50, 34, 48,\n",
       "       82, 24, 68, 40, 68, 78, 76, 44, 73, 86, 86, 33, 62, 23, 60, 18, 84,\n",
       "       22, 64, 82, 27, 72, 38, 67, 19, 29, 36, 88, 62, 45, 45, 72, 41, 65,\n",
       "       27, 67, 60, 55, 62, 34, 39, 35, 53, 61, 51, 79, 81, 88, 73, 89, 51,\n",
       "       23, 65, 60, 59, 80, 43, 72, 84, 50, 45, 81, 38, 45, 75, 20, 85, 54,\n",
       "       73, 47, 21, 87, 56, 37, 56, 28, 66, 48, 32, 61, 41, 83, 27, 46, 79,\n",
       "       76, 80, 64, 66, 73, 64, 67, 81, 38, 36, 59, 82, 52, 35, 70, 82, 77,\n",
       "       74, 49, 51, 40, 47, 77, 70, 83, 50, 27, 63, 48, 19, 23, 39, 56, 43,\n",
       "       89, 30, 46, 41, 51, 40, 20, 55, 65, 32, 78, 85, 61, 89, 62, 73, 45,\n",
       "       40, 62, 20, 86, 41, 82, 54, 52, 55, 88, 60, 31, 47, 71, 34, 58, 49,\n",
       "       75, 36, 33, 79, 39, 20, 60, 51, 39, 61, 38, 18, 20, 54, 84, 86, 23,\n",
       "       21, 25, 83, 57, 53, 88, 85, 46, 43, 30, 40, 89, 22, 62, 55, 88, 58,\n",
       "       82, 40, 81, 89, 20, 26, 88, 43, 26, 80, 61, 61, 19, 50, 82, 87, 84,\n",
       "       31, 43, 34, 58, 60, 89, 39, 83, 54, 89, 78, 57, 52, 51, 84, 18, 70,\n",
       "       67, 46, 62, 89, 26, 80, 62, 86, 55, 76, 50, 63, 70, 70, 72, 84, 62,\n",
       "       81, 51, 61, 65, 61, 20, 20, 70, 42, 22, 72, 40, 61, 45, 58, 30, 41,\n",
       "       37, 38, 57, 71, 44, 34, 33, 21, 37, 37, 33, 63, 55, 32, 43, 48, 47,\n",
       "       77, 69, 74, 64, 85, 55, 21, 83, 46, 77, 46, 38, 68, 55, 63, 64, 62,\n",
       "       81, 37, 75, 42, 41, 78, 65, 45, 85, 59, 33, 51, 88, 52, 74, 57, 44,\n",
       "       80, 84, 38, 66, 52, 52, 63, 75, 76, 54, 37, 19, 88, 47, 72, 59, 54,\n",
       "       57, 46, 41, 40, 64, 32, 62, 69, 43, 26, 74, 50, 48, 54, 52, 55, 62,\n",
       "       73, 82, 44, 63, 33, 89, 84, 68, 49, 54, 61, 62, 36, 89, 55, 83, 33,\n",
       "       48, 20, 26, 71, 80, 76, 26, 50, 21, 77, 48, 66, 24, 53, 24, 30, 82,\n",
       "       24, 56, 60, 65, 64, 34, 24])"
      ]
     },
     "metadata": {},
     "execution_count": 8
    }
   ],
   "metadata": {}
  },
  {
   "cell_type": "code",
   "execution_count": 15,
   "source": [
    "import pandas as pd\r\n",
    "wine = pd.read_csv('wine.csv')\r\n",
    "wine.head(2)\r\n"
   ],
   "outputs": [
    {
     "output_type": "execute_result",
     "data": {
      "text/html": [
       "<div>\n",
       "<style scoped>\n",
       "    .dataframe tbody tr th:only-of-type {\n",
       "        vertical-align: middle;\n",
       "    }\n",
       "\n",
       "    .dataframe tbody tr th {\n",
       "        vertical-align: top;\n",
       "    }\n",
       "\n",
       "    .dataframe thead th {\n",
       "        text-align: right;\n",
       "    }\n",
       "</style>\n",
       "<table border=\"1\" class=\"dataframe\">\n",
       "  <thead>\n",
       "    <tr style=\"text-align: right;\">\n",
       "      <th></th>\n",
       "      <th>Wine</th>\n",
       "      <th>Alcohol</th>\n",
       "      <th>Malic.acid</th>\n",
       "      <th>Ash</th>\n",
       "      <th>Acl</th>\n",
       "      <th>Mg</th>\n",
       "      <th>Phenols</th>\n",
       "      <th>Flavanoids</th>\n",
       "      <th>Nonflavanoid.phenols</th>\n",
       "      <th>Proanth</th>\n",
       "      <th>Color.int</th>\n",
       "      <th>Hue</th>\n",
       "      <th>OD</th>\n",
       "      <th>Proline</th>\n",
       "    </tr>\n",
       "  </thead>\n",
       "  <tbody>\n",
       "    <tr>\n",
       "      <th>0</th>\n",
       "      <td>1</td>\n",
       "      <td>14.23</td>\n",
       "      <td>1.71</td>\n",
       "      <td>2.43</td>\n",
       "      <td>15.6</td>\n",
       "      <td>127</td>\n",
       "      <td>2.80</td>\n",
       "      <td>3.06</td>\n",
       "      <td>0.28</td>\n",
       "      <td>2.29</td>\n",
       "      <td>5.64</td>\n",
       "      <td>1.04</td>\n",
       "      <td>3.92</td>\n",
       "      <td>1065</td>\n",
       "    </tr>\n",
       "    <tr>\n",
       "      <th>1</th>\n",
       "      <td>1</td>\n",
       "      <td>13.20</td>\n",
       "      <td>1.78</td>\n",
       "      <td>2.14</td>\n",
       "      <td>11.2</td>\n",
       "      <td>100</td>\n",
       "      <td>2.65</td>\n",
       "      <td>2.76</td>\n",
       "      <td>0.26</td>\n",
       "      <td>1.28</td>\n",
       "      <td>4.38</td>\n",
       "      <td>1.05</td>\n",
       "      <td>3.40</td>\n",
       "      <td>1050</td>\n",
       "    </tr>\n",
       "  </tbody>\n",
       "</table>\n",
       "</div>"
      ],
      "text/plain": [
       "   Wine  Alcohol  Malic.acid   Ash   Acl   Mg  Phenols  Flavanoids  \\\n",
       "0     1    14.23        1.71  2.43  15.6  127     2.80        3.06   \n",
       "1     1    13.20        1.78  2.14  11.2  100     2.65        2.76   \n",
       "\n",
       "   Nonflavanoid.phenols  Proanth  Color.int   Hue    OD  Proline  \n",
       "0                  0.28     2.29       5.64  1.04  3.92     1065  \n",
       "1                  0.26     1.28       4.38  1.05  3.40     1050  "
      ]
     },
     "metadata": {},
     "execution_count": 15
    }
   ],
   "metadata": {}
  },
  {
   "cell_type": "code",
   "execution_count": 16,
   "source": [
    "wine.shape"
   ],
   "outputs": [
    {
     "output_type": "execute_result",
     "data": {
      "text/plain": [
       "(178, 14)"
      ]
     },
     "metadata": {},
     "execution_count": 16
    }
   ],
   "metadata": {}
  },
  {
   "cell_type": "code",
   "execution_count": 18,
   "source": [
    "wine['Acl'].mean()"
   ],
   "outputs": [
    {
     "output_type": "execute_result",
     "data": {
      "text/plain": [
       "19.49494382022472"
      ]
     },
     "metadata": {},
     "execution_count": 18
    }
   ],
   "metadata": {}
  },
  {
   "cell_type": "code",
   "execution_count": 19,
   "source": [
    "wine['Acl'].median()"
   ],
   "outputs": [
    {
     "output_type": "execute_result",
     "data": {
      "text/plain": [
       "19.5"
      ]
     },
     "metadata": {},
     "execution_count": 19
    }
   ],
   "metadata": {}
  },
  {
   "cell_type": "code",
   "execution_count": 20,
   "source": [
    "wine['Acl'].mode()"
   ],
   "outputs": [
    {
     "output_type": "execute_result",
     "data": {
      "text/plain": [
       "0    20.0\n",
       "dtype: float64"
      ]
     },
     "metadata": {},
     "execution_count": 20
    }
   ],
   "metadata": {}
  },
  {
   "cell_type": "code",
   "execution_count": 21,
   "source": [
    "d1.var(), d2.var(), d3.var()"
   ],
   "outputs": [
    {
     "output_type": "execute_result",
     "data": {
      "text/plain": [
       "(3.44, 553.76, 4560.4)"
      ]
     },
     "metadata": {},
     "execution_count": 21
    }
   ],
   "metadata": {}
  },
  {
   "cell_type": "code",
   "execution_count": 23,
   "source": [
    "d1.std(), d2.std(), d3.std()"
   ],
   "outputs": [
    {
     "output_type": "execute_result",
     "data": {
      "text/plain": [
       "(1.8547236990991407, 23.532105728132365, 67.53073374397763)"
      ]
     },
     "metadata": {},
     "execution_count": 23
    }
   ],
   "metadata": {}
  },
  {
   "cell_type": "code",
   "execution_count": null,
   "source": [],
   "outputs": [],
   "metadata": {}
  }
 ],
 "metadata": {
  "orig_nbformat": 4,
  "language_info": {
   "name": "python",
   "version": "3.8.8",
   "mimetype": "text/x-python",
   "codemirror_mode": {
    "name": "ipython",
    "version": 3
   },
   "pygments_lexer": "ipython3",
   "nbconvert_exporter": "python",
   "file_extension": ".py"
  },
  "kernelspec": {
   "name": "python3",
   "display_name": "Python 3.8.8 64-bit ('base': conda)"
  },
  "interpreter": {
   "hash": "4dc1cc02c367ca7ad0b1fc5e376b41e09845a28f3f36f373698abec275ce0fd0"
  }
 },
 "nbformat": 4,
 "nbformat_minor": 2
}