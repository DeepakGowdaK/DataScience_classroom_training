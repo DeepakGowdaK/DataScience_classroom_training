{
 "cells": [
  {
   "cell_type": "markdown",
   "source": [
    "# **Deep Learning**"
   ],
   "metadata": {}
  },
  {
   "cell_type": "markdown",
   "source": [
    "## **Classifying handwritten digits**"
   ],
   "metadata": {}
  },
  {
   "cell_type": "code",
   "execution_count": 1,
   "source": [
    "from tensorflow import keras\r\n",
    "from tensorflow.keras.datasets import mnist\r\n",
    "from tensorflow.keras.models import Sequential \r\n",
    "from tensorflow.keras.layers import Dense, Dropout\r\n",
    "from tensorflow.keras.optimizers import RMSprop"
   ],
   "outputs": [],
   "metadata": {}
  },
  {
   "cell_type": "code",
   "execution_count": 2,
   "source": [
    "(mnist_train_images, mnist_train_labels), (mnist_test_images, mnist_test_labels) = mnist.load_data()"
   ],
   "outputs": [
    {
     "output_type": "stream",
     "name": "stdout",
     "text": [
      "Downloading data from https://storage.googleapis.com/tensorflow/tf-keras-datasets/mnist.npz\n",
      "11493376/11490434 [==============================] - 1s 0us/step\n",
      "11501568/11490434 [==============================] - 1s 0us/step\n"
     ]
    }
   ],
   "metadata": {}
  },
  {
   "cell_type": "markdown",
   "source": [
    "mnist has 70,000 images (28x28) of handwritten number.  \r\n",
    "Train 60,000  \r\n",
    "Testing 10,000  \r\n"
   ],
   "metadata": {}
  },
  {
   "cell_type": "code",
   "execution_count": 4,
   "source": [
    "# image of 28x28 => array of 784 values \r\n",
    "\r\n",
    "# train_images => each row will have one image, such 60,000 rows to be created\r\n",
    "# test_images => each row will have one image, such 10,000 rows to be created"
   ],
   "outputs": [],
   "metadata": {}
  },
  {
   "cell_type": "code",
   "execution_count": 5,
   "source": [
    "train_images = mnist_train_images.reshape(60000, 784)\r\n",
    "test_images = mnist_test_images.reshape(10000, 784)"
   ],
   "outputs": [],
   "metadata": {}
  },
  {
   "cell_type": "code",
   "execution_count": 6,
   "source": [
    "# convert interger values to float 32 values\r\n",
    "train_images = train_images.astype('float32')\r\n",
    "test_images = test_images.astype('float32')"
   ],
   "outputs": [],
   "metadata": {}
  },
  {
   "cell_type": "code",
   "execution_count": 7,
   "source": [
    "# normalise each value to 0 to 1 scale\r\n",
    "train_images /= 255\r\n",
    "test_images /= 255"
   ],
   "outputs": [],
   "metadata": {}
  },
  {
   "cell_type": "code",
   "execution_count": 8,
   "source": [
    "# Converting labels to one hot encoded format\r\n",
    "train_labels = keras.utils.to_categorical(mnist_train_labels, 10)\r\n",
    "test_labels = keras.utils.to_categorical(mnist_test_labels, 10)"
   ],
   "outputs": [],
   "metadata": {}
  },
  {
   "cell_type": "code",
   "execution_count": 9,
   "source": [
    "test_labels[0]"
   ],
   "outputs": [
    {
     "output_type": "execute_result",
     "data": {
      "text/plain": [
       "array([0., 0., 0., 0., 0., 0., 0., 1., 0., 0.], dtype=float32)"
      ]
     },
     "metadata": {},
     "execution_count": 9
    }
   ],
   "metadata": {}
  },
  {
   "cell_type": "code",
   "execution_count": 10,
   "source": [
    "test_labels[0].argmax()"
   ],
   "outputs": [
    {
     "output_type": "execute_result",
     "data": {
      "text/plain": [
       "7"
      ]
     },
     "metadata": {},
     "execution_count": 10
    }
   ],
   "metadata": {}
  },
  {
   "cell_type": "code",
   "execution_count": 11,
   "source": [
    "import matplotlib.pyplot as plt\r\n",
    "\r\n",
    "def display_sample(num):\r\n",
    "    #Print the one-hot array of this sample's label \r\n",
    "    print(train_labels[num])  \r\n",
    "    #Print the label converted back to a number\r\n",
    "    label = train_labels[num].argmax(axis=0)\r\n",
    "    #Reshape the 768 values to a 28x28 image\r\n",
    "    image = train_images[num].reshape([28,28])\r\n",
    "    plt.title('Sample: %d  Label: %d' % (num, label))\r\n",
    "    plt.imshow(image, cmap=plt.get_cmap('gray_r'))\r\n",
    "    plt.show()\r\n",
    "    \r\n",
    "display_sample(1234)"
   ],
   "outputs": [
    {
     "output_type": "stream",
     "name": "stdout",
     "text": [
      "[0. 0. 0. 1. 0. 0. 0. 0. 0. 0.]\n"
     ]
    },
    {
     "output_type": "display_data",
     "data": {
      "image/png": "[encoded data removed]",
      "text/plain": [
       "<Figure size 432x288 with 1 Axes>"
      ]
     },
     "metadata": {
      "needs_background": "light"
     }
    }
   ],
   "metadata": {}
  },
  {
   "cell_type": "code",
   "execution_count": 12,
   "source": [
    "# Model Build based on Tensorflow Keras\r\n",
    "model = Sequential() \r\n",
    "model.add(Dense(512, activation='relu', input_shape=(784,)))\r\n",
    "model.add(Dense(10, activation='softmax')) "
   ],
   "outputs": [],
   "metadata": {}
  },
  {
   "cell_type": "code",
   "execution_count": 13,
   "source": [
    "model.summary()"
   ],
   "outputs": [
    {
     "output_type": "stream",
     "name": "stdout",
     "text": [
      "Model: \"sequential\"\n",
      "_________________________________________________________________\n",
      "Layer (type)                 Output Shape              Param #   \n",
      "=================================================================\n",
      "dense (Dense)                (None, 512)               401920    \n",
      "_________________________________________________________________\n",
      "dense_1 (Dense)              (None, 10)                5130      \n",
      "=================================================================\n",
      "Total params: 407,050\n",
      "Trainable params: 407,050\n",
      "Non-trainable params: 0\n",
      "_________________________________________________________________\n"
     ]
    }
   ],
   "metadata": {}
  },
  {
   "cell_type": "code",
   "execution_count": 14,
   "source": [
    "model.compile(loss='categorical_crossentropy',\r\n",
    "              optimizer=RMSprop(),\r\n",
    "              metrics=['accuracy'])\r\n"
   ],
   "outputs": [],
   "metadata": {}
  },
  {
   "cell_type": "code",
   "execution_count": 15,
   "source": [
    "# Training of model\r\n",
    "history = model.fit(train_images, train_labels,\r\n",
    "                    batch_size=100,\r\n",
    "                    epochs=10,\r\n",
    "                    verbose=2,\r\n",
    "                    validation_data=(test_images, test_labels))\r\n"
   ],
   "outputs": [
    {
     "output_type": "stream",
     "name": "stdout",
     "text": [
      "Epoch 1/10\n",
      "600/600 - 8s - loss: 0.2410 - accuracy: 0.9304 - val_loss: 0.1205 - val_accuracy: 0.9627\n",
      "Epoch 2/10\n",
      "600/600 - 8s - loss: 0.0978 - accuracy: 0.9713 - val_loss: 0.0836 - val_accuracy: 0.9751\n",
      "Epoch 3/10\n",
      "600/600 - 9s - loss: 0.0644 - accuracy: 0.9806 - val_loss: 0.0814 - val_accuracy: 0.9758\n",
      "Epoch 4/10\n",
      "600/600 - 8s - loss: 0.0481 - accuracy: 0.9860 - val_loss: 0.0673 - val_accuracy: 0.9794\n",
      "Epoch 5/10\n",
      "600/600 - 7s - loss: 0.0362 - accuracy: 0.9888 - val_loss: 0.0696 - val_accuracy: 0.9795\n",
      "Epoch 6/10\n",
      "600/600 - 6s - loss: 0.0282 - accuracy: 0.9918 - val_loss: 0.0702 - val_accuracy: 0.9784\n",
      "Epoch 7/10\n",
      "600/600 - 6s - loss: 0.0210 - accuracy: 0.9940 - val_loss: 0.0720 - val_accuracy: 0.9804\n",
      "Epoch 8/10\n",
      "600/600 - 5s - loss: 0.0164 - accuracy: 0.9952 - val_loss: 0.0764 - val_accuracy: 0.9797\n",
      "Epoch 9/10\n",
      "600/600 - 5s - loss: 0.0126 - accuracy: 0.9962 - val_loss: 0.0709 - val_accuracy: 0.9814\n",
      "Epoch 10/10\n",
      "600/600 - 6s - loss: 0.0096 - accuracy: 0.9971 - val_loss: 0.0723 - val_accuracy: 0.9825\n"
     ]
    }
   ],
   "metadata": {}
  },
  {
   "cell_type": "code",
   "execution_count": 16,
   "source": [
    "score = model.evaluate(test_images, test_labels, verbose=0)\r\n",
    "print('Test loss:', score[0])\r\n",
    "print('Test accuracy:', score[1])"
   ],
   "outputs": [
    {
     "output_type": "stream",
     "name": "stdout",
     "text": [
      "Test loss: 0.07233161479234695\n",
      "Test accuracy: 0.9825000166893005\n"
     ]
    }
   ],
   "metadata": {}
  },
  {
   "cell_type": "code",
   "execution_count": 17,
   "source": [
    "# let us check correctly predicted images\r\n",
    "\r\n",
    "for x in range(10):\r\n",
    "    test_image = test_images[x,:].reshape(1,784)\r\n",
    "    predicted_cat = model.predict(test_image).argmax()\r\n",
    "    label = test_labels[x].argmax()\r\n",
    "    #if (predicted_cat != label):\r\n",
    "    if (predicted_cat == label):\r\n",
    "        plt.title('Prediction: %d Label: %d' % (predicted_cat, label))\r\n",
    "        plt.imshow(test_image.reshape([28,28]), cmap=plt.get_cmap('gray_r'))\r\n",
    "        plt.show()\r\n"
   ],
   "outputs": [
    {
     "output_type": "display_data",
     "data": {
      "image/png": "[encoded data removed]",
      "text/plain": [
       "<Figure size 432x288 with 1 Axes>"
      ]
     },
     "metadata": {
      "needs_background": "light"
     }
    },
    {
     "output_type": "display_data",
     "data": {
      "image/png": "[encoded data removed]",
      "text/plain": [
       "<Figure size 432x288 with 1 Axes>"
      ]
     },
     "metadata": {
      "needs_background": "light"
     }
    },
    {
     "output_type": "display_data",
     "data": {
      "image/png": "[encoded data removed]",
      "text/plain": [
       "<Figure size 432x288 with 1 Axes>"
      ]
     },
     "metadata": {
      "needs_background": "light"
     }
    },
    {
     "output_type": "display_data",
     "data": {
      "image/png": "[encoded data removed]",
      "text/plain": [
       "<Figure size 432x288 with 1 Axes>"
      ]
     },
     "metadata": {
      "needs_background": "light"
     }
    },
    {
     "output_type": "display_data",
     "data": {
      "image/png": "[encoded data removed]",
      "text/plain": [
       "<Figure size 432x288 with 1 Axes>"
      ]
     },
     "metadata": {
      "needs_background": "light"
     }
    },
    {
     "output_type": "display_data",
     "data": {
      "image/png": "[encoded data removed]",
      "text/plain": [
       "<Figure size 432x288 with 1 Axes>"
      ]
     },
     "metadata": {
      "needs_background": "light"
     }
    },
    {
     "output_type": "display_data",
     "data": {
      "image/png": "[encoded data removed]",
      "text/plain": [
       "<Figure size 432x288 with 1 Axes>"
      ]
     },
     "metadata": {
      "needs_background": "light"
     }
    },
    {
     "output_type": "display_data",
     "data": {
      "image/png": "[encoded data removed]",
      "text/plain": [
       "<Figure size 432x288 with 1 Axes>"
      ]
     },
     "metadata": {
      "needs_background": "light"
     }
    },
    {
     "output_type": "display_data",
     "data": {
      "image/png": "[encoded data removed]",
      "text/plain": [
       "<Figure size 432x288 with 1 Axes>"
      ]
     },
     "metadata": {
      "needs_background": "light"
     }
    },
    {
     "output_type": "display_data",
     "data": {
      "image/png": "[encoded data removed]",
      "text/plain": [
       "<Figure size 432x288 with 1 Axes>"
      ]
     },
     "metadata": {
      "needs_background": "light"
     }
    }
   ],
   "metadata": {}
  },
  {
   "cell_type": "code",
   "execution_count": 18,
   "source": [
    "# let us see incorrectly predicted images. where range(200) is set for to search within first 200 samples.\r\n",
    "for x in range(200):\r\n",
    "    test_image = test_images[x,:].reshape(1,784)\r\n",
    "    predicted_cat = model.predict(test_image).argmax()\r\n",
    "    label = test_labels[x].argmax()\r\n",
    "    if (predicted_cat != label):\r\n",
    "    #if (predicted_cat == label):\r\n",
    "        plt.title('Prediction: %d Label: %d' % (predicted_cat, label))\r\n",
    "        plt.imshow(test_image.reshape([28,28]), cmap=plt.get_cmap('gray_r'))\r\n",
    "        plt.show()\r\n"
   ],
   "outputs": [
    {
     "output_type": "display_data",
     "data": {
      "image/png": "[encoded data removed]",
      "text/plain": [
       "<Figure size 432x288 with 1 Axes>"
      ]
     },
     "metadata": {
      "needs_background": "light"
     }
    }
   ],
   "metadata": {}
  },
  {
   "cell_type": "code",
   "execution_count": null,
   "source": [],
   "outputs": [],
   "metadata": {}
  }
 ],
 "metadata": {
  "orig_nbformat": 4,
  "language_info": {
   "name": "python",
   "version": "3.8.8",
   "mimetype": "text/x-python",
   "codemirror_mode": {
    "name": "ipython",
    "version": 3
   },
   "pygments_lexer": "ipython3",
   "nbconvert_exporter": "python",
   "file_extension": ".py"
  },
  "kernelspec": {
   "name": "python3",
   "display_name": "Python 3.8.8 64-bit ('base': conda)"
  },
  "interpreter": {
   "hash": "4dc1cc02c367ca7ad0b1fc5e376b41e09845a28f3f36f373698abec275ce0fd0"
  }
 },
 "nbformat": 4,
 "nbformat_minor": 2
}