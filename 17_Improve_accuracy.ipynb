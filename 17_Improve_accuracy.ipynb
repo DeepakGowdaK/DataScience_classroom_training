{
 "cells": [
  {
   "cell_type": "markdown",
   "source": [
    "===========================================  \r\n",
    "Supervisory Modelling  \r\n",
    "  \r\n",
    "Regression  \r\n",
    "=========  \r\n",
    "Data values change from -ve-infinity 0 1 100 1000 positive-infinity  \r\n",
    "Linear Regression  \r\n",
    "\r\n",
    "Classification - Catergory, Yes/no, win/lose  \r\n",
    "=================================  \r\n",
    "Logistic -   \r\n",
    "Decision Tree -  \r\n",
    "Random Forest (Bagging)  - split data in multiple groups -> Tree  \r\n",
    "Boosting -   \r\n",
    "Naive Bayes  - probability - smam  \r\n",
    "KNN - Euclidean geometry nearest items from cenroid  \r\n",
    "SVM - Hpyerplane  \r\n",
    "  \r\n",
    "Un-supervisory   \r\n",
    "===========  \r\n",
    "- KMeans Clustering  \r\n",
    "============================================  \r\n",
    "   \r\n",
    "Any Project  \r\n",
    "  \r\n",
    "1. Import data in pandas dataframe  \r\n",
    "2. Pre-process  \r\n",
    "3. split data in x & y  \r\n",
    "4. Split data again in training & testing datasets  \r\n",
    "5. Build Model  \r\n",
    "6. Train Model  \r\n",
    "7. Evaluate Model  \r\n",
    "8. Forecasting or Prediction  \r\n"
   ],
   "metadata": {}
  },
  {
   "cell_type": "markdown",
   "source": [
    "## **For improving accuracy**  \r\n",
    "**K-fold cross validation**"
   ],
   "metadata": {}
  },
  {
   "cell_type": "code",
   "execution_count": 1,
   "source": [
    "import pandas as pd\r\n",
    "import numpy as np\r\n",
    "import warnings\r\n",
    "warnings.filterwarnings('ignore')\r\n",
    "\r\n",
    "import matplotlib.pyplot as plt\r\n",
    "%matplotlib inline\r\n",
    "\r\n",
    "from sklearn.model_selection import train_test_split"
   ],
   "outputs": [],
   "metadata": {}
  },
  {
   "cell_type": "code",
   "execution_count": 2,
   "source": [
    "# from sklearn.metrics import accuracy_score\r\n",
    "# accuracy = accuracy_score(y_test, y_pred)\r\n",
    "# accuracy"
   ],
   "outputs": [],
   "metadata": {}
  },
  {
   "cell_type": "code",
   "execution_count": 3,
   "source": [
    "# from sklearn.metrics import confusion_matrix\r\n",
    "\r\n",
    "#cm1 = confusion_matrix( y_test, y_pred )\r\n",
    "# cm1"
   ],
   "outputs": [],
   "metadata": {}
  },
  {
   "cell_type": "markdown",
   "source": [
    "## **K-fold cross validation**"
   ],
   "metadata": {}
  },
  {
   "cell_type": "markdown",
   "source": [
    "<img src='K_fold.png'>"
   ],
   "metadata": {}
  },
  {
   "cell_type": "code",
   "execution_count": 4,
   "source": [
    "import pandas as pd\r\n",
    "import numpy as np\r\n",
    "import warnings\r\n",
    "warnings.filterwarnings('ignore')\r\n",
    "\r\n",
    "import matplotlib.pyplot as plt\r\n",
    "%matplotlib inline\r\n",
    "\r\n",
    "from sklearn.model_selection import train_test_split"
   ],
   "outputs": [],
   "metadata": {}
  },
  {
   "cell_type": "code",
   "execution_count": 5,
   "source": [
    "from sklearn.model_selection import cross_val_score\r\n",
    "from sklearn import datasets\r\n",
    "from sklearn import svm"
   ],
   "outputs": [],
   "metadata": {}
  },
  {
   "cell_type": "code",
   "execution_count": 6,
   "source": [
    "iris = datasets.load_iris()\r\n",
    "x = iris.data\r\n",
    "y = iris.target"
   ],
   "outputs": [],
   "metadata": {}
  },
  {
   "cell_type": "code",
   "execution_count": 7,
   "source": [
    "x[:5]"
   ],
   "outputs": [
    {
     "output_type": "execute_result",
     "data": {
      "text/plain": [
       "array([[5.1, 3.5, 1.4, 0.2],\n",
       "       [4.9, 3. , 1.4, 0.2],\n",
       "       [4.7, 3.2, 1.3, 0.2],\n",
       "       [4.6, 3.1, 1.5, 0.2],\n",
       "       [5. , 3.6, 1.4, 0.2]])"
      ]
     },
     "metadata": {},
     "execution_count": 7
    }
   ],
   "metadata": {}
  },
  {
   "cell_type": "code",
   "execution_count": 8,
   "source": [
    "y[:5]"
   ],
   "outputs": [
    {
     "output_type": "execute_result",
     "data": {
      "text/plain": [
       "array([0, 0, 0, 0, 0])"
      ]
     },
     "metadata": {},
     "execution_count": 8
    }
   ],
   "metadata": {}
  },
  {
   "cell_type": "code",
   "execution_count": 9,
   "source": [
    "# Split data in training and testing subsets\r\n",
    "x_train,x_test,y_train,y_test = train_test_split(x,y,test_size=0.4,random_state=0)"
   ],
   "outputs": [],
   "metadata": {}
  },
  {
   "cell_type": "code",
   "execution_count": 10,
   "source": [
    "# Build the data\r\n",
    "clf = svm.SVC(kernel='linear', C=1)"
   ],
   "outputs": [],
   "metadata": {}
  },
  {
   "cell_type": "code",
   "execution_count": 11,
   "source": [
    "# Train the model\r\n",
    "clf = clf.fit(x_train, y_train)"
   ],
   "outputs": [],
   "metadata": {}
  },
  {
   "cell_type": "code",
   "execution_count": 12,
   "source": [
    "clf.score(x_test, y_test)"
   ],
   "outputs": [
    {
     "output_type": "execute_result",
     "data": {
      "text/plain": [
       "0.9666666666666667"
      ]
     },
     "metadata": {},
     "execution_count": 12
    }
   ],
   "metadata": {}
  },
  {
   "cell_type": "markdown",
   "source": [
    "## **Cross validation for 5 K-folds**"
   ],
   "metadata": {}
  },
  {
   "cell_type": "code",
   "execution_count": 13,
   "source": [
    "scores = cross_val_score(clf, x, y, cv=5)\r\n",
    "print( scores )\r\n",
    "print( scores.mean() )"
   ],
   "outputs": [
    {
     "output_type": "stream",
     "name": "stdout",
     "text": [
      "[0.96666667 1.         0.96666667 0.96666667 1.        ]\n",
      "0.9800000000000001\n"
     ]
    }
   ],
   "metadata": {}
  },
  {
   "cell_type": "code",
   "execution_count": 14,
   "source": [
    "import tensorflow"
   ],
   "outputs": [],
   "metadata": {}
  },
  {
   "cell_type": "code",
   "execution_count": 17,
   "source": [
    "tensorflow.__version__"
   ],
   "outputs": [
    {
     "output_type": "execute_result",
     "data": {
      "text/plain": [
       "'2.6.0'"
      ]
     },
     "metadata": {},
     "execution_count": 17
    }
   ],
   "metadata": {}
  },
  {
   "cell_type": "code",
   "execution_count": null,
   "source": [],
   "outputs": [],
   "metadata": {}
  }
 ],
 "metadata": {
  "orig_nbformat": 4,
  "language_info": {
   "name": "python",
   "version": "3.8.8",
   "mimetype": "text/x-python",
   "codemirror_mode": {
    "name": "ipython",
    "version": 3
   },
   "pygments_lexer": "ipython3",
   "nbconvert_exporter": "python",
   "file_extension": ".py"
  },
  "kernelspec": {
   "name": "python3",
   "display_name": "Python 3.8.8 64-bit ('base': conda)"
  },
  "interpreter": {
   "hash": "4dc1cc02c367ca7ad0b1fc5e376b41e09845a28f3f36f373698abec275ce0fd0"
  }
 },
 "nbformat": 4,
 "nbformat_minor": 2
}