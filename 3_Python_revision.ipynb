{
 "cells": [
  {
   "cell_type": "code",
   "execution_count": 1,
   "source": [
    "import sys\r\n",
    "print(\"Python version is \", sys.version)"
   ],
   "outputs": [
    {
     "output_type": "stream",
     "name": "stdout",
     "text": [
      "Python version is  3.8.8 (default, Apr 13 2021, 15:08:03) [MSC v.1916 64 bit (AMD64)]\n"
     ]
    }
   ],
   "metadata": {}
  },
  {
   "cell_type": "code",
   "execution_count": 3,
   "source": [
    "## We can delete a variable from memory by del command\r\n",
    "a='this is going to be deleted'\r\n",
    "print(a)\r\n",
    "del a\r\n",
    "print(a)"
   ],
   "outputs": [
    {
     "output_type": "stream",
     "name": "stdout",
     "text": [
      "this is going to be deleted\n"
     ]
    },
    {
     "output_type": "error",
     "ename": "NameError",
     "evalue": "name 'a' is not defined",
     "traceback": [
      "\u001b[1;31m---------------------------------------------------------------------------\u001b[0m",
      "\u001b[1;31mNameError\u001b[0m                                 Traceback (most recent call last)",
      "\u001b[1;32m<ipython-input-3-47333aa7f4e2>\u001b[0m in \u001b[0;36m<module>\u001b[1;34m\u001b[0m\n\u001b[0;32m      3\u001b[0m \u001b[0mprint\u001b[0m\u001b[1;33m(\u001b[0m\u001b[0ma\u001b[0m\u001b[1;33m)\u001b[0m\u001b[1;33m\u001b[0m\u001b[1;33m\u001b[0m\u001b[0m\n\u001b[0;32m      4\u001b[0m \u001b[1;32mdel\u001b[0m \u001b[0ma\u001b[0m\u001b[1;33m\u001b[0m\u001b[1;33m\u001b[0m\u001b[0m\n\u001b[1;32m----> 5\u001b[1;33m \u001b[0mprint\u001b[0m\u001b[1;33m(\u001b[0m\u001b[0ma\u001b[0m\u001b[1;33m)\u001b[0m\u001b[1;33m\u001b[0m\u001b[1;33m\u001b[0m\u001b[0m\n\u001b[0m",
      "\u001b[1;31mNameError\u001b[0m: name 'a' is not defined"
     ]
    }
   ],
   "metadata": {}
  },
  {
   "cell_type": "code",
   "execution_count": 7,
   "source": [
    "str1 = \"Hello World\"\r\n",
    "print(str1)\r\n",
    "\r\n",
    "print(str1[0])  # get first character\r\n",
    "print(str1[-1]) # get last character\r\n",
    "print(str1[:5]) # get slice from 0 to 5 index\r\n",
    "print(str1[5:]) # Get slice from 5 till end of string\r\n",
    "\r\n"
   ],
   "outputs": [
    {
     "output_type": "stream",
     "name": "stdout",
     "text": [
      "Hello World\n",
      "H\n",
      "d\n",
      "Hello\n",
      " World\n"
     ]
    }
   ],
   "metadata": {}
  },
  {
   "cell_type": "markdown",
   "source": [
    "## **List Data Type**"
   ],
   "metadata": {}
  },
  {
   "cell_type": "code",
   "execution_count": 9,
   "source": [
    "lst = ['India', 456, 27.78, 'Apple', True, None, 'USA']\r\n",
    "\r\n",
    "\r\n",
    "print(lst[0])\r\n",
    "print(lst[-1])\r\n",
    "print(type(lst))\r\n",
    "\r\n",
    "## For typecasting (changing data type)\r\n",
    "##list(tup)\r\n",
    "tuple(lst)\r\n",
    "print(type(lst))\r\n",
    "str(lst)\r\n",
    "print(type(lst))\r\n",
    "\r\n",
    "## this concept was not clear......!"
   ],
   "outputs": [
    {
     "output_type": "stream",
     "name": "stdout",
     "text": [
      "India\n",
      "USA\n",
      "<class 'list'>\n",
      "<class 'list'>\n",
      "<class 'list'>\n"
     ]
    }
   ],
   "metadata": {}
  },
  {
   "cell_type": "markdown",
   "source": [
    "## **Set Data Type**"
   ],
   "metadata": {}
  },
  {
   "cell_type": "code",
   "execution_count": 10,
   "source": [
    "basket = {'apple', 'orange', 'apple', 'pear', 'orange', 'banana'}\r\n",
    "basket\r\n",
    "\r\n",
    "col1 = {'red', 'green', 'orange', 'white'}\r\n",
    "col2 = {'black', 'green', 'white', 'ping'}\r\n",
    "\r\n",
    "col1 & col2  # intersection of both sets, common colors in both sets\r\n",
    "\r\n",
    "col1 | col2 # union of both sets\r\n",
    "\r\n",
    "# find colors either in col1 or col2; but not in both\r\n",
    "col1^col2\r\n",
    "\r\n",
    "'red' in col1"
   ],
   "outputs": [
    {
     "output_type": "execute_result",
     "data": {
      "text/plain": [
       "True"
      ]
     },
     "metadata": {},
     "execution_count": 10
    }
   ],
   "metadata": {}
  },
  {
   "cell_type": "markdown",
   "source": [
    "## **Dictionary Data Type**"
   ],
   "metadata": {}
  },
  {
   "cell_type": "code",
   "execution_count": 11,
   "source": [
    "bag = {}\r\n",
    "bag['food'] = 'Biryani'\r\n",
    "bag['fruit'] = 'Apple'\r\n",
    "bag['vege'] = 'Carror'\r\n",
    "bag\r\n",
    "\r\n",
    "bag['food'] = 'Burger'\r\n",
    "\r\n",
    "bag.keys()\r\n",
    "bag.values()\r\n",
    "bag.items()\r\n",
    "\r\n",
    "bag['food'] = ['Biryani', 'Burger', 'Spaghetti', 'Pizza']\r\n",
    "bag\r\n"
   ],
   "outputs": [
    {
     "output_type": "execute_result",
     "data": {
      "text/plain": [
       "{'food': ['Biryani', 'Burger', 'Spaghetti', 'Pizza'],\n",
       " 'fruit': 'Apple',\n",
       " 'vege': 'Carror'}"
      ]
     },
     "metadata": {},
     "execution_count": 11
    }
   ],
   "metadata": {}
  },
  {
   "cell_type": "markdown",
   "source": [
    "## **Decision Making**"
   ],
   "metadata": {}
  },
  {
   "cell_type": "code",
   "execution_count": 12,
   "source": [
    "a = 4\r\n",
    "\r\n",
    "if a < 3:\r\n",
    "    print('a is smaller')\r\n",
    "elif a==3:\r\n",
    "    print('a is equal')\r\n",
    "else:\r\n",
    "    print('a is greater')\r\n"
   ],
   "outputs": [
    {
     "output_type": "stream",
     "name": "stdout",
     "text": [
      "a is greater\n"
     ]
    }
   ],
   "metadata": {}
  },
  {
   "cell_type": "markdown",
   "source": [
    "## **Range**"
   ],
   "metadata": {}
  },
  {
   "cell_type": "code",
   "execution_count": 14,
   "source": [
    "lst = list( range(10) )\r\n",
    "print(lst)\r\n",
    "\r\n",
    "lst = list( range(25, 40) )\r\n",
    "print(lst)\r\n",
    "\r\n",
    "lst = list( range(20, 80, 5) )\r\n",
    "print(lst)\r\n"
   ],
   "outputs": [
    {
     "output_type": "stream",
     "name": "stdout",
     "text": [
      "[0, 1, 2, 3, 4, 5, 6, 7, 8, 9]\n",
      "[25, 26, 27, 28, 29, 30, 31, 32, 33, 34, 35, 36, 37, 38, 39]\n",
      "[20, 25, 30, 35, 40, 45, 50, 55, 60, 65, 70, 75]\n"
     ]
    }
   ],
   "metadata": {}
  },
  {
   "cell_type": "markdown",
   "source": [
    "## **While loop**"
   ],
   "metadata": {}
  },
  {
   "cell_type": "code",
   "execution_count": 16,
   "source": [
    "count = 0\r\n",
    "\r\n",
    "while (count<=10):\r\n",
    "    print('The count is : ', count)\r\n",
    "    count = count+1\r\n"
   ],
   "outputs": [
    {
     "output_type": "stream",
     "name": "stdout",
     "text": [
      "The count is :  0\n",
      "The count is :  1\n",
      "The count is :  2\n",
      "The count is :  3\n",
      "The count is :  4\n",
      "The count is :  5\n",
      "The count is :  6\n",
      "The count is :  7\n",
      "The count is :  8\n",
      "The count is :  9\n",
      "The count is :  10\n"
     ]
    }
   ],
   "metadata": {}
  },
  {
   "cell_type": "markdown",
   "source": [
    "## **for loop**"
   ],
   "metadata": {}
  },
  {
   "cell_type": "code",
   "execution_count": 17,
   "source": [
    "for i in range(5):\r\n",
    "    print(i)"
   ],
   "outputs": [
    {
     "output_type": "stream",
     "name": "stdout",
     "text": [
      "0\n",
      "1\n",
      "2\n",
      "3\n",
      "4\n"
     ]
    }
   ],
   "metadata": {}
  },
  {
   "cell_type": "markdown",
   "source": [
    "## **Functions**"
   ],
   "metadata": {}
  },
  {
   "cell_type": "code",
   "execution_count": 18,
   "source": [
    "def hello(name):\r\n",
    "    \"\"\"This should explain the purpose of function\"\"\"\r\n",
    "    print(\"Hello, %s !\" %name )\r\n",
    "    return\r\n",
    "\r\n",
    "hello(\"Wakeup Kings\")\r\n"
   ],
   "outputs": [
    {
     "output_type": "stream",
     "name": "stdout",
     "text": [
      "Hello, Wakeup Kings !\n"
     ]
    }
   ],
   "metadata": {}
  },
  {
   "cell_type": "code",
   "execution_count": null,
   "source": [],
   "outputs": [],
   "metadata": {}
  }
 ],
 "metadata": {
  "orig_nbformat": 4,
  "language_info": {
   "name": "python",
   "version": "3.8.8",
   "mimetype": "text/x-python",
   "codemirror_mode": {
    "name": "ipython",
    "version": 3
   },
   "pygments_lexer": "ipython3",
   "nbconvert_exporter": "python",
   "file_extension": ".py"
  },
  "kernelspec": {
   "name": "python3",
   "display_name": "Python 3.8.8 64-bit ('base': conda)"
  },
  "interpreter": {
   "hash": "4dc1cc02c367ca7ad0b1fc5e376b41e09845a28f3f36f373698abec275ce0fd0"
  }
 },
 "nbformat": 4,
 "nbformat_minor": 2
}